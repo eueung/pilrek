{
 "cells": [
  {
   "cell_type": "code",
   "execution_count": 1,
   "metadata": {},
   "outputs": [
    {
     "data": {
      "text/plain": [
       "array([0, 1, 2, 3])"
      ]
     },
     "execution_count": 1,
     "metadata": {},
     "output_type": "execute_result"
    }
   ],
   "source": [
    "import numpy as np\n",
    "a = np.array([0,1,2,3])\n",
    "a"
   ]
  },
  {
   "cell_type": "code",
   "execution_count": 2,
   "metadata": {},
   "outputs": [],
   "source": [
    "L = range(1000)"
   ]
  },
  {
   "cell_type": "code",
   "execution_count": 3,
   "metadata": {},
   "outputs": [
    {
     "name": "stdout",
     "output_type": "stream",
     "text": [
      "896 µs ± 4.75 µs per loop (mean ± std. dev. of 7 runs, 1000 loops each)\n"
     ]
    }
   ],
   "source": [
    "%timeit [i**2 for i in L]"
   ]
  },
  {
   "cell_type": "code",
   "execution_count": 4,
   "metadata": {},
   "outputs": [],
   "source": [
    "a = np.arange(1000)"
   ]
  },
  {
   "cell_type": "code",
   "execution_count": 5,
   "metadata": {},
   "outputs": [
    {
     "name": "stdout",
     "output_type": "stream",
     "text": [
      "10.7 µs ± 32.1 ns per loop (mean ± std. dev. of 7 runs, 100000 loops each)\n"
     ]
    }
   ],
   "source": [
    "%timeit a**2"
   ]
  },
  {
   "cell_type": "code",
   "execution_count": 6,
   "metadata": {},
   "outputs": [
    {
     "data": {
      "text/plain": [
       "\u001b[0;31mDocstring:\u001b[0m\n",
       "array(object, dtype=None, copy=True, order='K', subok=False, ndmin=0)\n",
       "\n",
       "Create an array.\n",
       "\n",
       "Parameters\n",
       "----------\n",
       "object : array_like\n",
       "    An array, any object exposing the array interface, an object whose\n",
       "    __array__ method returns an array, or any (nested) sequence.\n",
       "dtype : data-type, optional\n",
       "    The desired data-type for the array.  If not given, then the type will\n",
       "    be determined as the minimum type required to hold the objects in the\n",
       "    sequence.  This argument can only be used to 'upcast' the array.  For\n",
       "    downcasting, use the .astype(t) method.\n",
       "copy : bool, optional\n",
       "    If true (default), then the object is copied.  Otherwise, a copy will\n",
       "    only be made if __array__ returns a copy, if obj is a nested sequence,\n",
       "    or if a copy is needed to satisfy any of the other requirements\n",
       "    (`dtype`, `order`, etc.).\n",
       "order : {'K', 'A', 'C', 'F'}, optional\n",
       "    Specify the memory layout of the array. If object is not an array, the\n",
       "    newly created array will be in C order (row major) unless 'F' is\n",
       "    specified, in which case it will be in Fortran order (column major).\n",
       "    If object is an array the following holds.\n",
       "\n",
       "    ===== ========= ===================================================\n",
       "    order  no copy                     copy=True\n",
       "    ===== ========= ===================================================\n",
       "    'K'   unchanged F & C order preserved, otherwise most similar order\n",
       "    'A'   unchanged F order if input is F and not C, otherwise C order\n",
       "    'C'   C order   C order\n",
       "    'F'   F order   F order\n",
       "    ===== ========= ===================================================\n",
       "\n",
       "    When ``copy=False`` and a copy is made for other reasons, the result is\n",
       "    the same as if ``copy=True``, with some exceptions for `A`, see the\n",
       "    Notes section. The default order is 'K'.\n",
       "subok : bool, optional\n",
       "    If True, then sub-classes will be passed-through, otherwise\n",
       "    the returned array will be forced to be a base-class array (default).\n",
       "ndmin : int, optional\n",
       "    Specifies the minimum number of dimensions that the resulting\n",
       "    array should have.  Ones will be pre-pended to the shape as\n",
       "    needed to meet this requirement.\n",
       "\n",
       "Returns\n",
       "-------\n",
       "out : ndarray\n",
       "    An array object satisfying the specified requirements.\n",
       "\n",
       "See Also\n",
       "--------\n",
       "empty_like : Return an empty array with shape and type of input.\n",
       "ones_like : Return an array of ones with shape and type of input.\n",
       "zeros_like : Return an array of zeros with shape and type of input.\n",
       "full_like : Return a new array with shape of input filled with value.\n",
       "empty : Return a new uninitialized array.\n",
       "ones : Return a new array setting values to one.\n",
       "zeros : Return a new array setting values to zero.\n",
       "full : Return a new array of given shape filled with value.\n",
       "\n",
       "\n",
       "Notes\n",
       "-----\n",
       "When order is 'A' and `object` is an array in neither 'C' nor 'F' order,\n",
       "and a copy is forced by a change in dtype, then the order of the result is\n",
       "not necessarily 'C' as expected. This is likely a bug.\n",
       "\n",
       "Examples\n",
       "--------\n",
       ">>> np.array([1, 2, 3])\n",
       "array([1, 2, 3])\n",
       "\n",
       "Upcasting:\n",
       "\n",
       ">>> np.array([1, 2, 3.0])\n",
       "array([ 1.,  2.,  3.])\n",
       "\n",
       "More than one dimension:\n",
       "\n",
       ">>> np.array([[1, 2], [3, 4]])\n",
       "array([[1, 2],\n",
       "       [3, 4]])\n",
       "\n",
       "Minimum dimensions 2:\n",
       "\n",
       ">>> np.array([1, 2, 3], ndmin=2)\n",
       "array([[1, 2, 3]])\n",
       "\n",
       "Type provided:\n",
       "\n",
       ">>> np.array([1, 2, 3], dtype=complex)\n",
       "array([ 1.+0.j,  2.+0.j,  3.+0.j])\n",
       "\n",
       "Data-type consisting of more than one element:\n",
       "\n",
       ">>> x = np.array([(1,2),(3,4)],dtype=[('a','<i4'),('b','<i4')])\n",
       ">>> x['a']\n",
       "array([1, 3])\n",
       "\n",
       "Creating an array from sub-classes:\n",
       "\n",
       ">>> np.array(np.mat('1 2; 3 4'))\n",
       "array([[1, 2],\n",
       "       [3, 4]])\n",
       "\n",
       ">>> np.array(np.mat('1 2; 3 4'), subok=True)\n",
       "matrix([[1, 2],\n",
       "        [3, 4]])\n",
       "\u001b[0;31mType:\u001b[0m      builtin_function_or_method\n"
      ]
     },
     "metadata": {},
     "output_type": "display_data"
    }
   ],
   "source": [
    "np.array?"
   ]
  },
  {
   "cell_type": "code",
   "execution_count": 9,
   "metadata": {},
   "outputs": [
    {
     "name": "stdout",
     "output_type": "stream",
     "text": [
      "Search results for 'create array'\n",
      "---------------------------------\n",
      "numpy.array\n",
      "    Create an array.\n",
      "numpy.memmap\n",
      "    Create a memory-map to an array stored in a *binary* file on disk.\n",
      "numpy.diagflat\n",
      "    Create a two-dimensional array with the flattened input as a diagonal.\n",
      "numpy.fromiter\n",
      "    Create a new 1-dimensional array from an iterable object.\n",
      "numpy.partition\n",
      "    Return a partitioned copy of an array.\n",
      "numpy.ctypeslib.as_array\n",
      "    Create a numpy array from a ctypes array or POINTER.\n",
      "numpy.ma.diagflat\n",
      "    Create a two-dimensional array with the flattened input as a diagonal.\n",
      "numpy.ma.make_mask\n",
      "    Create a boolean mask from an array.\n",
      "numpy.ctypeslib.as_ctypes\n",
      "    Create and return a ctypes object from a numpy array.  Actually\n",
      "numpy.asarray\n",
      "    Convert the input to an array.\n",
      "numpy.ndarray\n",
      "    ndarray(shape, dtype=float, buffer=None, offset=0,\n",
      "numpy.recarray\n",
      "    Construct an ndarray that allows field access using attributes.\n",
      "numpy.chararray\n",
      "    chararray(shape, itemsize=1, unicode=False, buffer=None, offset=0,\n",
      "numpy.pad\n",
      "    Pads an array.\n",
      "numpy.asanyarray\n",
      "    Convert the input to an ndarray, but pass ndarray subclasses through.\n",
      "numpy.copy\n",
      "    Return an array copy of the given object.\n",
      "numpy.diag\n",
      "    Extract a diagonal or construct a diagonal array.\n",
      "numpy.load\n",
      "    Load arrays or pickled objects from ``.npy``, ``.npz`` or pickled files.\n",
      "numpy.sort\n",
      "    Return a sorted copy of an array.\n",
      "numpy.array_equiv\n",
      "    Returns True if input arrays are shape consistent and all elements equal.\n",
      "numpy.dtype\n",
      "    Create a data type object.\n",
      "numpy.ufunc\n",
      "    Functions that operate element by element on whole arrays.\n",
      "numpy.choose\n",
      "    Construct an array from an index array and a set of arrays to choose from.\n",
      "numpy.nditer\n",
      "    Efficient multi-dimensional iterator object to iterate over arrays.\n",
      "numpy.swapaxes\n",
      "    Interchange two axes of an array.\n",
      "numpy.full_like\n",
      "    Return a full array with the same shape and type as a given array.\n",
      "numpy.ones_like\n",
      "    Return an array of ones with the same shape and type as a given array.\n",
      "numpy.empty_like\n",
      "    Return a new array with the same shape and type as a given array.\n",
      "numpy.zeros_like\n",
      "    Return an array of zeros with the same shape and type as a given array.\n",
      "numpy.asarray_chkfinite\n",
      "    Convert the input to an array, checking for NaNs or Infs.\n",
      "numpy.diag_indices\n",
      "    Return the indices to access the main diagonal of an array.\n",
      "numpy.nested_iters\n",
      "    Create nditers for use in nested loops\n",
      "numpy.chararray.tolist\n",
      "    a.tolist()\n",
      "numpy.put_along_axis\n",
      "    Put values into the destination array by matching 1d index and data slices.\n",
      "numpy.ma.choose\n",
      "    Use an index array to construct a new array from a set of choices.\n",
      "numpy.savez_compressed\n",
      "    Save several arrays into a single file in compressed ``.npz`` format.\n",
      "numpy.matlib.rand\n",
      "    Return a matrix of random values with given shape.\n",
      "numpy.datetime_as_string\n",
      "    Convert an array of datetimes into an array of strings.\n",
      "numpy.ma.empty_like\n",
      "    Return a new array with the same shape and type as a given array.\n",
      "numpy.ma.make_mask_none\n",
      "    Return a boolean mask of the given shape, filled with False.\n",
      "numpy.around\n",
      "    Evenly round to the given number of decimals.\n",
      "numpy.source\n",
      "    Print or write to a file the source code for a NumPy object.\n",
      "numpy.diagonal\n",
      "    Return specified diagonals.\n",
      "numpy.nan_to_num\n",
      "    Replace NaN with zero and infinity with large finite numbers.\n",
      "numpy.einsum_path\n",
      "    Evaluates the lowest cost contraction order for an einsum expression by\n",
      "numpy.histogram2d\n",
      "    Compute the bi-dimensional histogram of two data samples.\n",
      "numpy.busdaycalendar\n",
      "    A business day calendar object that efficiently stores information"
     ]
    }
   ],
   "source": [
    "np.lookfor('create array') "
   ]
  },
  {
   "cell_type": "code",
   "execution_count": 8,
   "metadata": {},
   "outputs": [
    {
     "data": {
      "text/plain": [
       "np.concatenate\n",
       "np.conftest\n",
       "np.conj\n",
       "np.conjugate\n",
       "np.convolve"
      ]
     },
     "metadata": {},
     "output_type": "display_data"
    }
   ],
   "source": [
    "np.con*?"
   ]
  },
  {
   "cell_type": "code",
   "execution_count": 14,
   "metadata": {},
   "outputs": [
    {
     "data": {
      "text/plain": [
       "array([0, 1, 2, 3])"
      ]
     },
     "execution_count": 14,
     "metadata": {},
     "output_type": "execute_result"
    }
   ],
   "source": [
    "a = np.array([0, 1, 2, 3])\n",
    "a"
   ]
  },
  {
   "cell_type": "code",
   "execution_count": 11,
   "metadata": {},
   "outputs": [
    {
     "data": {
      "text/plain": [
       "1"
      ]
     },
     "execution_count": 11,
     "metadata": {},
     "output_type": "execute_result"
    }
   ],
   "source": [
    "a.ndim"
   ]
  },
  {
   "cell_type": "code",
   "execution_count": 12,
   "metadata": {},
   "outputs": [
    {
     "data": {
      "text/plain": [
       "(4,)"
      ]
     },
     "execution_count": 12,
     "metadata": {},
     "output_type": "execute_result"
    }
   ],
   "source": [
    "a.shape"
   ]
  },
  {
   "cell_type": "code",
   "execution_count": 13,
   "metadata": {},
   "outputs": [
    {
     "data": {
      "text/plain": [
       "4"
      ]
     },
     "execution_count": 13,
     "metadata": {},
     "output_type": "execute_result"
    }
   ],
   "source": [
    "len(a)"
   ]
  },
  {
   "cell_type": "code",
   "execution_count": 15,
   "metadata": {},
   "outputs": [
    {
     "data": {
      "text/plain": [
       "array([[0, 1, 2],\n",
       "       [3, 4, 5]])"
      ]
     },
     "execution_count": 15,
     "metadata": {},
     "output_type": "execute_result"
    }
   ],
   "source": [
    "b = np.array([[0, 1, 2], [3, 4, 5]])    # 2 x 3 array\n",
    "b"
   ]
  },
  {
   "cell_type": "code",
   "execution_count": 16,
   "metadata": {},
   "outputs": [
    {
     "data": {
      "text/plain": [
       "2"
      ]
     },
     "execution_count": 16,
     "metadata": {},
     "output_type": "execute_result"
    }
   ],
   "source": [
    "b.ndim"
   ]
  },
  {
   "cell_type": "code",
   "execution_count": 17,
   "metadata": {},
   "outputs": [
    {
     "data": {
      "text/plain": [
       "(2, 3)"
      ]
     },
     "execution_count": 17,
     "metadata": {},
     "output_type": "execute_result"
    }
   ],
   "source": [
    "b.shape"
   ]
  },
  {
   "cell_type": "code",
   "execution_count": 18,
   "metadata": {},
   "outputs": [
    {
     "data": {
      "text/plain": [
       "2"
      ]
     },
     "execution_count": 18,
     "metadata": {},
     "output_type": "execute_result"
    }
   ],
   "source": [
    "len(b)     # returns the size of the first dimension"
   ]
  },
  {
   "cell_type": "code",
   "execution_count": 19,
   "metadata": {},
   "outputs": [
    {
     "data": {
      "text/plain": [
       "array([[[1],\n",
       "        [2]],\n",
       "\n",
       "       [[3],\n",
       "        [4]]])"
      ]
     },
     "execution_count": 19,
     "metadata": {},
     "output_type": "execute_result"
    }
   ],
   "source": [
    "c = np.array([[[1], [2]], [[3], [4]]])\n",
    "c"
   ]
  },
  {
   "cell_type": "code",
   "execution_count": 20,
   "metadata": {},
   "outputs": [
    {
     "data": {
      "text/plain": [
       "(2, 2, 1)"
      ]
     },
     "execution_count": 20,
     "metadata": {},
     "output_type": "execute_result"
    }
   ],
   "source": [
    "c.shape"
   ]
  },
  {
   "cell_type": "code",
   "execution_count": 21,
   "metadata": {},
   "outputs": [
    {
     "data": {
      "text/plain": [
       "3"
      ]
     },
     "execution_count": 21,
     "metadata": {},
     "output_type": "execute_result"
    }
   ],
   "source": [
    "c.ndim"
   ]
  },
  {
   "cell_type": "code",
   "execution_count": 24,
   "metadata": {},
   "outputs": [
    {
     "data": {
      "text/plain": [
       "array([0, 1, 2, 3, 4, 5, 6, 7, 8, 9])"
      ]
     },
     "execution_count": 24,
     "metadata": {},
     "output_type": "execute_result"
    }
   ],
   "source": [
    "a = np.arange(10)\n",
    "a"
   ]
  },
  {
   "cell_type": "code",
   "execution_count": 25,
   "metadata": {},
   "outputs": [
    {
     "data": {
      "text/plain": [
       "array([1, 3, 5, 7])"
      ]
     },
     "execution_count": 25,
     "metadata": {},
     "output_type": "execute_result"
    }
   ],
   "source": [
    "b = np.arange(1, 9, 2) # start, end (exclusive), step\n",
    "b"
   ]
  },
  {
   "cell_type": "code",
   "execution_count": 26,
   "metadata": {},
   "outputs": [
    {
     "data": {
      "text/plain": [
       "array([0. , 0.2, 0.4, 0.6, 0.8, 1. ])"
      ]
     },
     "execution_count": 26,
     "metadata": {},
     "output_type": "execute_result"
    }
   ],
   "source": [
    "c = np.linspace(0, 1, 6)   # start, end, num-points\n",
    "c"
   ]
  },
  {
   "cell_type": "code",
   "execution_count": 27,
   "metadata": {},
   "outputs": [
    {
     "data": {
      "text/plain": [
       "array([0. , 0.2, 0.4, 0.6, 0.8])"
      ]
     },
     "execution_count": 27,
     "metadata": {},
     "output_type": "execute_result"
    }
   ],
   "source": [
    "d = np.linspace(0, 1, 5, endpoint=False)\n",
    "d"
   ]
  },
  {
   "cell_type": "code",
   "execution_count": 28,
   "metadata": {},
   "outputs": [
    {
     "data": {
      "text/plain": [
       "array([[1., 1., 1.],\n",
       "       [1., 1., 1.],\n",
       "       [1., 1., 1.]])"
      ]
     },
     "execution_count": 28,
     "metadata": {},
     "output_type": "execute_result"
    }
   ],
   "source": [
    "a = np.ones((3, 3))  # reminder: (3, 3) is a tuple\n",
    "a"
   ]
  },
  {
   "cell_type": "code",
   "execution_count": 29,
   "metadata": {},
   "outputs": [
    {
     "data": {
      "text/plain": [
       "array([[0., 0.],\n",
       "       [0., 0.]])"
      ]
     },
     "execution_count": 29,
     "metadata": {},
     "output_type": "execute_result"
    }
   ],
   "source": [
    "b = np.zeros((2, 2))\n",
    "b"
   ]
  },
  {
   "cell_type": "code",
   "execution_count": 30,
   "metadata": {},
   "outputs": [
    {
     "data": {
      "text/plain": [
       "array([[1., 0., 0.],\n",
       "       [0., 1., 0.],\n",
       "       [0., 0., 1.]])"
      ]
     },
     "execution_count": 30,
     "metadata": {},
     "output_type": "execute_result"
    }
   ],
   "source": [
    "c = np.eye(3)\n",
    "c"
   ]
  },
  {
   "cell_type": "code",
   "execution_count": 31,
   "metadata": {},
   "outputs": [
    {
     "data": {
      "text/plain": [
       "array([[1, 0, 0, 0],\n",
       "       [0, 2, 0, 0],\n",
       "       [0, 0, 3, 0],\n",
       "       [0, 0, 0, 4]])"
      ]
     },
     "execution_count": 31,
     "metadata": {},
     "output_type": "execute_result"
    }
   ],
   "source": [
    "d = np.diag(np.array([1, 2, 3, 4]))\n",
    "d"
   ]
  },
  {
   "cell_type": "code",
   "execution_count": 32,
   "metadata": {},
   "outputs": [
    {
     "data": {
      "text/plain": [
       "array([0.50755507, 0.0211933 , 0.43352176, 0.44631306])"
      ]
     },
     "execution_count": 32,
     "metadata": {},
     "output_type": "execute_result"
    }
   ],
   "source": [
    "a = np.random.rand(4)       # uniform in [0, 1]\n",
    "a"
   ]
  },
  {
   "cell_type": "code",
   "execution_count": 33,
   "metadata": {},
   "outputs": [
    {
     "data": {
      "text/plain": [
       "array([ 0.65034618, -0.51433646,  0.53942869,  1.52676162])"
      ]
     },
     "execution_count": 33,
     "metadata": {},
     "output_type": "execute_result"
    }
   ],
   "source": [
    "b = np.random.randn(4)      # Gaussian\n",
    "b"
   ]
  },
  {
   "cell_type": "code",
   "execution_count": 34,
   "metadata": {},
   "outputs": [],
   "source": [
    "np.random.seed(1234)        # Setting the random seed"
   ]
  },
  {
   "cell_type": "code",
   "execution_count": 35,
   "metadata": {},
   "outputs": [
    {
     "data": {
      "text/plain": [
       "dtype('int64')"
      ]
     },
     "execution_count": 35,
     "metadata": {},
     "output_type": "execute_result"
    }
   ],
   "source": [
    "a = np.array([1, 2, 3])\n",
    "a.dtype"
   ]
  },
  {
   "cell_type": "code",
   "execution_count": 36,
   "metadata": {},
   "outputs": [
    {
     "data": {
      "text/plain": [
       "dtype('float64')"
      ]
     },
     "execution_count": 36,
     "metadata": {},
     "output_type": "execute_result"
    }
   ],
   "source": [
    "b = np.array([1., 2., 3.])\n",
    "b.dtype"
   ]
  },
  {
   "cell_type": "code",
   "execution_count": 37,
   "metadata": {},
   "outputs": [
    {
     "data": {
      "text/plain": [
       "dtype('float64')"
      ]
     },
     "execution_count": 37,
     "metadata": {},
     "output_type": "execute_result"
    }
   ],
   "source": [
    "c = np.array([1, 2, 3], dtype=float)\n",
    "c.dtype"
   ]
  },
  {
   "cell_type": "code",
   "execution_count": 38,
   "metadata": {},
   "outputs": [
    {
     "data": {
      "text/plain": [
       "dtype('float64')"
      ]
     },
     "execution_count": 38,
     "metadata": {},
     "output_type": "execute_result"
    }
   ],
   "source": [
    "a = np.ones((3, 3))\n",
    "a.dtype"
   ]
  },
  {
   "cell_type": "code",
   "execution_count": 39,
   "metadata": {},
   "outputs": [
    {
     "data": {
      "text/plain": [
       "dtype('complex128')"
      ]
     },
     "execution_count": 39,
     "metadata": {},
     "output_type": "execute_result"
    }
   ],
   "source": [
    "d = np.array([1+2j, 3+4j, 5+6*1j])\n",
    "d.dtype"
   ]
  },
  {
   "cell_type": "code",
   "execution_count": 40,
   "metadata": {},
   "outputs": [
    {
     "data": {
      "text/plain": [
       "dtype('bool')"
      ]
     },
     "execution_count": 40,
     "metadata": {},
     "output_type": "execute_result"
    }
   ],
   "source": [
    "e = np.array([True, False, False, True])\n",
    "e.dtype"
   ]
  },
  {
   "cell_type": "code",
   "execution_count": 45,
   "metadata": {},
   "outputs": [
    {
     "data": {
      "text/plain": [
       "dtype('<U7')"
      ]
     },
     "execution_count": 45,
     "metadata": {},
     "output_type": "execute_result"
    }
   ],
   "source": [
    "f = np.array(['Bonjour', 'Hello', 'Hallo'])\n",
    "f.dtype     # <--- strings containing max. 7 letters"
   ]
  },
  {
   "cell_type": "code",
   "execution_count": 46,
   "metadata": {},
   "outputs": [],
   "source": [
    "%matplotlib inline\n",
    "import matplotlib.pyplot as plt  # the tidy way"
   ]
  },
  {
   "cell_type": "code",
   "execution_count": 48,
   "metadata": {},
   "outputs": [
    {
     "data": {
      "text/plain": [
       "[<matplotlib.lines.Line2D at 0x7f4641694d30>]"
      ]
     },
     "execution_count": 48,
     "metadata": {},
     "output_type": "execute_result"
    },
    {
     "data": {
      "image/png": "[encoded data removed]",
      "text/plain": [
       "<Figure size 432x288 with 1 Axes>"
      ]
     },
     "metadata": {
      "needs_background": "light"
     },
     "output_type": "display_data"
    }
   ],
   "source": [
    "x = np.linspace(0, 3, 20)\n",
    "y = np.linspace(0, 9, 20)\n",
    "plt.plot(x, y)       # line plot    "
   ]
  },
  {
   "cell_type": "code",
   "execution_count": 49,
   "metadata": {},
   "outputs": [
    {
     "data": {
      "text/plain": [
       "[<matplotlib.lines.Line2D at 0x7f46416050b8>]"
      ]
     },
     "execution_count": 49,
     "metadata": {},
     "output_type": "execute_result"
    },
    {
     "data": {
      "image/png": "[encoded data removed]",
      "text/plain": [
       "<Figure size 432x288 with 1 Axes>"
      ]
     },
     "metadata": {
      "needs_background": "light"
     },
     "output_type": "display_data"
    }
   ],
   "source": [
    "plt.plot(x, y, 'o')  # dot plot"
   ]
  },
  {
   "cell_type": "code",
   "execution_count": 55,
   "metadata": {},
   "outputs": [
    {
     "data": {
      "text/plain": [
       "<matplotlib.colorbar.Colorbar at 0x7f46413067b8>"
      ]
     },
     "execution_count": 55,
     "metadata": {},
     "output_type": "execute_result"
    },
    {
     "data": {
      "image/png": "[encoded data removed]",
      "text/plain": [
       "<Figure size 432x288 with 2 Axes>"
      ]
     },
     "metadata": {
      "needs_background": "light"
     },
     "output_type": "display_data"
    }
   ],
   "source": [
    "image = np.random.rand(30, 30)\n",
    "plt.imshow(image, cmap=plt.cm.hot)\n",
    "plt.colorbar()"
   ]
  },
  {
   "cell_type": "code",
   "execution_count": 52,
   "metadata": {
    "collapsed": true,
    "jupyter": {
     "outputs_hidden": true
    }
   },
   "outputs": [
    {
     "data": {
      "text/plain": [
       "array([[8.93352260e-01, 4.48584019e-01, 2.44383579e-01, 8.14172964e-01,\n",
       "        6.97149399e-01, 4.09604541e-01, 5.71508427e-03, 9.54014364e-01,\n",
       "        6.05252600e-01, 6.54627660e-03, 4.98493487e-01, 5.98635346e-01,\n",
       "        3.00147450e-01, 4.61757496e-01, 4.95599781e-01, 5.85659141e-01,\n",
       "        8.69637988e-01, 8.32226959e-01, 7.78563048e-01, 5.48433108e-01,\n",
       "        6.13451957e-01, 7.34269727e-01, 5.66369091e-01, 7.75210135e-01,\n",
       "        9.86545606e-01, 7.89205690e-01, 6.14335982e-01, 1.58284539e-01,\n",
       "        4.76386314e-01, 2.83649173e-01],\n",
       "       [1.53812265e-01, 7.77220420e-01, 5.89631334e-02, 7.91225015e-02,\n",
       "        6.64238463e-01, 5.23344981e-01, 4.46406890e-01, 3.06830447e-01,\n",
       "        1.72851214e-02, 2.93526841e-01, 2.67793966e-01, 3.67256017e-02,\n",
       "        8.04039578e-01, 3.33799557e-01, 8.91886685e-01, 8.10353234e-01,\n",
       "        9.64101208e-01, 9.57714064e-01, 5.91165505e-01, 3.11503319e-01,\n",
       "        9.18420730e-01, 5.06504562e-02, 2.25742681e-01, 3.62706099e-01,\n",
       "        4.12255702e-01, 9.44621296e-01, 5.79382545e-01, 1.86760151e-01,\n",
       "        5.96484665e-01, 9.33756297e-01],\n",
       "       [1.34138140e-01, 9.82283530e-01, 1.53875653e-01, 8.20728137e-01,\n",
       "        6.77536475e-01, 4.04089260e-01, 2.17287041e-01, 7.73584735e-01,\n",
       "        8.47695929e-01, 5.29699620e-01, 4.09599720e-01, 1.83079466e-02,\n",
       "        1.48659613e-01, 8.04335190e-01, 4.19778124e-01, 3.39217570e-01,\n",
       "        2.97145850e-01, 7.17985994e-01, 9.97807181e-01, 5.51902276e-01,\n",
       "        8.89896045e-01, 1.68468287e-01, 8.83564296e-01, 7.02775637e-01,\n",
       "        4.22108654e-01, 8.63314948e-01, 2.35043226e-01, 5.63750663e-01,\n",
       "        2.65602509e-02, 3.80051454e-01],\n",
       "       [3.61835097e-01, 9.12435249e-02, 4.52535337e-02, 3.42451513e-01,\n",
       "        3.55413975e-01, 9.95838238e-01, 9.44204572e-01, 1.31144112e-01,\n",
       "        5.18355055e-01, 4.77245375e-01, 4.01106409e-01, 9.30614402e-01,\n",
       "        5.15336147e-01, 8.09582019e-01, 8.81772228e-01, 7.62667782e-01,\n",
       "        4.64420702e-01, 7.39196047e-02, 4.70499358e-01, 2.00571977e-01,\n",
       "        2.08567224e-01, 1.77539600e-01, 3.54241449e-01, 9.11753126e-01,\n",
       "        4.33520919e-01, 1.78295886e-01, 7.52162249e-01, 5.04705657e-02,\n",
       "        8.26685174e-02, 3.85834415e-02],\n",
       "       [4.65278606e-01, 6.03828663e-01, 1.81789343e-01, 5.19029701e-01,\n",
       "        7.10153276e-01, 9.24980378e-01, 5.29131645e-01, 9.71185732e-01,\n",
       "        5.47252761e-01, 6.43797852e-03, 4.72776749e-01, 5.22088080e-01,\n",
       "        1.52208908e-01, 6.54234084e-01, 1.30443630e-01, 4.54148874e-01,\n",
       "        9.82361451e-01, 1.32514094e-01, 6.02789212e-02, 6.78722783e-02,\n",
       "        9.61460470e-02, 8.19342375e-01, 6.29606504e-01, 7.83631005e-01,\n",
       "        7.71354028e-02, 9.71998311e-01, 8.82833563e-01, 6.30433129e-01,\n",
       "        9.29073089e-01, 3.98126606e-01],\n",
       "       [4.88926097e-01, 6.85803234e-01, 2.81596580e-01, 6.76699954e-01,\n",
       "        4.95731713e-01, 7.91141982e-01, 2.18833531e-01, 7.46195837e-01,\n",
       "        4.54111047e-01, 4.08262327e-01, 9.22643486e-01, 1.50720644e-01,\n",
       "        1.30982851e-01, 3.81890077e-01, 5.41986603e-01, 9.44370158e-01,\n",
       "        3.23258769e-01, 9.74419786e-02, 9.47387260e-01, 8.57034822e-01,\n",
       "        2.60368638e-02, 1.17893682e-01, 8.29376381e-01, 1.38474291e-01,\n",
       "        5.69471136e-01, 4.77775414e-01, 3.06686479e-01, 5.66070787e-02,\n",
       "        9.36835208e-01, 9.04003602e-01],\n",
       "       [7.22235417e-01, 6.54078179e-01, 3.92209937e-01, 9.73674795e-01,\n",
       "        7.11007605e-01, 4.93048370e-01, 3.26441484e-01, 1.15853059e-01,\n",
       "        9.72060698e-01, 2.74428276e-01, 1.87449692e-01, 2.14895132e-01,\n",
       "        7.60853989e-01, 9.44889316e-01, 5.01550555e-01, 6.62083597e-01,\n",
       "        3.47404224e-01, 1.28569996e-01, 6.81296270e-01, 3.91283316e-01,\n",
       "        2.62044739e-02, 5.00599696e-01, 5.28127109e-01, 2.23268042e-01,\n",
       "        1.68968196e-03, 4.46563482e-01, 5.05325813e-01, 8.10188464e-02,\n",
       "        8.22739906e-01, 2.40194931e-01],\n",
       "       [9.69027667e-03, 2.25041735e-01, 8.41901370e-02, 8.25964599e-01,\n",
       "        7.14767219e-01, 2.44556138e-01, 6.38368393e-02, 4.26754195e-01,\n",
       "        7.06041520e-01, 7.18153579e-01, 1.93434335e-01, 7.40048101e-01,\n",
       "        9.56729874e-01, 5.15893977e-01, 4.30045229e-01, 2.30367551e-02,\n",
       "        5.07325965e-01, 6.86562228e-01, 1.38175262e-01, 6.72422862e-01,\n",
       "        3.93114613e-02, 4.31776521e-01, 8.54275847e-01, 4.22328484e-01,\n",
       "        8.84491107e-02, 5.66950076e-02, 1.03272846e-01, 4.85315697e-01,\n",
       "        6.74657172e-01, 9.08948437e-02],\n",
       "       [8.32212306e-01, 7.76463531e-01, 6.11633583e-02, 3.22417862e-01,\n",
       "        3.77139698e-01, 5.02265006e-01, 4.49965355e-01, 4.67362005e-01,\n",
       "        1.04714410e-01, 3.73750810e-01, 2.17722620e-02, 4.48337768e-01,\n",
       "        8.93114808e-01, 7.75881224e-01, 2.49161315e-01, 7.31544511e-01,\n",
       "        3.15137975e-01, 4.96130461e-01, 5.04258502e-02, 5.82519997e-01,\n",
       "        2.82594019e-01, 2.93335973e-01, 1.26054086e-01, 8.93180920e-01,\n",
       "        4.51273081e-01, 6.50871421e-01, 8.09305167e-01, 2.82962864e-01,\n",
       "        2.73381790e-01, 3.85737189e-01],\n",
       "       [4.21608123e-01, 9.32165433e-01, 8.67632821e-01, 4.45174427e-01,\n",
       "        2.91894195e-02, 1.07198243e-01, 1.96259146e-01, 2.38236344e-01,\n",
       "        8.24510446e-01, 8.96485587e-01, 2.78872075e-02, 5.73301327e-01,\n",
       "        8.05643111e-01, 4.20512433e-01, 5.25266837e-01, 2.86142593e-01,\n",
       "        6.58646233e-01, 9.03004091e-02, 8.22265309e-01, 8.07414288e-01,\n",
       "        1.91616674e-01, 6.38303020e-01, 8.32464616e-01, 4.69827092e-01,\n",
       "        5.80353033e-01, 1.08902780e-01, 4.62419490e-01, 8.86351833e-01,\n",
       "        4.64982775e-01, 4.66215271e-01],\n",
       "       [1.96004669e-01, 3.87288886e-02, 6.15861756e-01, 5.64631280e-01,\n",
       "        1.08230819e-01, 7.41633188e-01, 1.83482026e-01, 3.48641092e-01,\n",
       "        4.80481493e-01, 6.43926432e-01, 6.21626425e-01, 7.61193009e-01,\n",
       "        2.86651055e-01, 4.92385205e-01, 6.81910189e-01, 5.09969856e-01,\n",
       "        7.68211364e-01, 2.99936442e-01, 5.46880753e-01, 2.44644931e-01,\n",
       "        4.43597291e-01, 8.10014463e-01, 1.03866912e-01, 2.29984739e-01,\n",
       "        7.91764408e-01, 5.66541329e-01, 8.27417238e-01, 9.74933745e-01,\n",
       "        9.65224475e-01, 9.49702600e-01],\n",
       "       [5.51786916e-01, 9.25361284e-02, 7.40430773e-01, 5.64297445e-01,\n",
       "        7.45857729e-01, 4.55389886e-01, 1.55663000e-01, 9.95952841e-01,\n",
       "        8.89691086e-01, 8.03749399e-01, 4.11475711e-01, 2.13156856e-01,\n",
       "        2.94439784e-01, 6.22931340e-01, 2.48217051e-01, 7.99680942e-01,\n",
       "        1.88822318e-02, 4.80351390e-01, 7.34015291e-01, 6.83567895e-01,\n",
       "        4.21282969e-01, 6.93203337e-01, 3.67197698e-01, 2.32441407e-01,\n",
       "        7.85050565e-01, 7.26705158e-01, 7.06457260e-01, 3.17415104e-02,\n",
       "        2.39438740e-01, 3.71057572e-01],\n",
       "       [5.81878733e-01, 8.79886905e-02, 2.32128959e-01, 8.12515982e-01,\n",
       "        7.52740373e-01, 8.04776900e-01, 2.94443389e-01, 7.80619000e-01,\n",
       "        2.24786303e-01, 2.89849152e-01, 8.48981876e-01, 7.44165511e-01,\n",
       "        3.32253178e-01, 5.67334379e-01, 6.99648464e-01, 9.19354744e-02,\n",
       "        5.38022258e-02, 8.62796168e-01, 6.29970383e-01, 8.69653152e-01,\n",
       "        8.76908749e-02, 8.65903824e-01, 4.12475604e-02, 9.58174091e-01,\n",
       "        2.27368077e-01, 7.51862102e-01, 4.00748670e-01, 4.03075424e-01,\n",
       "        2.53286969e-01, 5.06838450e-01],\n",
       "       [1.84560158e-01, 5.70840263e-02, 3.66926538e-01, 7.19837287e-01,\n",
       "        4.74174536e-01, 9.22620278e-01, 1.70122301e-01, 7.18381780e-01,\n",
       "        8.69797639e-01, 1.29309756e-01, 9.74055811e-01, 7.54215621e-01,\n",
       "        9.16677456e-01, 3.77028411e-02, 2.85848847e-01, 8.22907878e-01,\n",
       "        2.74733630e-01, 5.17239480e-02, 1.47943281e-01, 1.64926692e-02,\n",
       "        7.82416623e-01, 3.49121607e-01, 7.49677846e-01, 5.49533922e-02,\n",
       "        7.81982237e-02, 7.89340525e-01, 3.70438053e-01, 1.10962442e-01,\n",
       "        4.05216024e-01, 6.51298781e-01],\n",
       "       [4.36288207e-01, 2.02475151e-01, 4.43889580e-01, 7.42148097e-01,\n",
       "        9.60150922e-02, 5.11721264e-01, 8.43616445e-01, 9.93543652e-01,\n",
       "        6.30756177e-01, 2.85473330e-01, 1.26021758e-01, 1.33557031e-02,\n",
       "        3.38155621e-01, 4.84320173e-01, 5.46191047e-01, 3.60393741e-02,\n",
       "        6.12244512e-02, 2.31607527e-02, 5.07389441e-01, 2.66591024e-01,\n",
       "        4.45305765e-01, 9.73609259e-01, 7.97776314e-01, 2.84125516e-01,\n",
       "        5.55786391e-01, 1.97587993e-01, 7.90600862e-01, 8.76196453e-02,\n",
       "        8.37925463e-01, 2.41262554e-01],\n",
       "       [4.34262314e-01, 4.27861577e-01, 1.02117180e-01, 9.08813734e-01,\n",
       "        1.49011312e-01, 9.07568023e-01, 1.04535806e-02, 1.73534385e-01,\n",
       "        8.39138655e-01, 3.10254637e-01, 8.48985676e-01, 9.11343950e-01,\n",
       "        8.99901116e-01, 8.67228629e-01, 8.37762189e-01, 2.53642846e-01,\n",
       "        8.43008128e-01, 6.17628091e-01, 9.84176964e-01, 6.10540147e-01,\n",
       "        6.51698366e-01, 6.54465162e-01, 5.52327310e-01, 1.85730101e-01,\n",
       "        9.80976371e-01, 9.59366346e-02, 7.48262881e-01, 5.24618410e-01,\n",
       "        2.90759725e-01, 2.28190753e-01],\n",
       "       [5.03739161e-01, 9.31957162e-01, 5.74129778e-01, 9.89744616e-01,\n",
       "        4.29773025e-01, 4.16355748e-01, 6.27877303e-01, 9.07368329e-01,\n",
       "        6.94227388e-02, 5.50403143e-01, 1.54605835e-01, 7.18560800e-01,\n",
       "        1.35406902e-01, 4.54646640e-03, 5.37516176e-01, 1.65928019e-02,\n",
       "        5.35514536e-01, 4.56920683e-02, 1.53979366e-01, 8.43010447e-01,\n",
       "        7.97929414e-01, 3.03594314e-01, 3.98493387e-01, 4.49294104e-01,\n",
       "        2.05351769e-02, 6.17554115e-01, 8.04554871e-01, 2.34172011e-01,\n",
       "        4.00128390e-01, 4.93314161e-01],\n",
       "       [5.01881119e-01, 3.33488209e-01, 1.05420279e-01, 6.40807838e-01,\n",
       "        1.51469124e-01, 1.95176659e-01, 5.73914547e-02, 9.14744547e-01,\n",
       "        8.30670091e-01, 1.59004278e-01, 8.67706675e-01, 5.07298204e-01,\n",
       "        1.28301371e-01, 1.13117750e-01, 2.22797781e-01, 8.89836975e-01,\n",
       "        4.50922086e-01, 6.97209671e-01, 3.90290154e-01, 6.22623760e-01,\n",
       "        7.16448111e-01, 5.00859239e-01, 7.60081224e-01, 8.32603753e-01,\n",
       "        5.59943616e-01, 5.43852561e-01, 5.87971996e-01, 2.51542564e-02,\n",
       "        9.89101858e-01, 7.07742242e-02],\n",
       "       [8.17615169e-01, 1.37035761e-01, 1.53019645e-01, 3.59241698e-01,\n",
       "        2.53462446e-01, 2.18764389e-01, 5.63383470e-01, 4.80062396e-01,\n",
       "        9.30468687e-02, 5.13906559e-01, 1.97417790e-01, 4.80270341e-01,\n",
       "        2.77020254e-01, 1.04837441e-02, 8.87781202e-01, 3.73898468e-01,\n",
       "        4.16216996e-01, 8.77582500e-01, 7.60770925e-01, 5.48112381e-01,\n",
       "        9.02340964e-01, 9.20701326e-01, 4.65440803e-01, 5.65646772e-01,\n",
       "        2.85580355e-02, 1.40330619e-01, 3.99998192e-01, 8.27097725e-01,\n",
       "        4.55391370e-01, 6.93583206e-01],\n",
       "       [6.37980346e-01, 6.55883027e-01, 7.69318995e-01, 2.27249914e-04,\n",
       "        3.00695445e-01, 6.95471488e-01, 9.08874218e-02, 5.23647524e-01,\n",
       "        8.94595029e-01, 9.63705867e-01, 7.05688187e-01, 7.64028887e-01,\n",
       "        3.44607858e-01, 2.51850328e-01, 6.67209115e-01, 1.49305015e-01,\n",
       "        4.70916692e-01, 2.22919376e-02, 7.59711056e-01, 2.05657080e-01,\n",
       "        8.40590474e-01, 7.74854332e-01, 1.76164045e-01, 8.84558791e-01,\n",
       "        9.30639540e-02, 2.02188445e-01, 3.72405483e-01, 1.73655711e-01,\n",
       "        3.45233743e-01, 5.67738481e-01],\n",
       "       [1.56951994e-01, 7.75740431e-01, 3.36615777e-02, 1.09585140e-02,\n",
       "        3.20123356e-01, 5.26727105e-01, 6.29726565e-01, 8.81513833e-01,\n",
       "        6.41139173e-01, 2.26879155e-02, 6.95190298e-01, 8.84651798e-01,\n",
       "        7.51394105e-01, 2.63077971e-01, 5.07574490e-01, 1.24191014e-01,\n",
       "        6.08725693e-01, 6.93312804e-01, 7.77862317e-02, 4.04081497e-01,\n",
       "        5.13486889e-01, 8.07066290e-01, 9.89663105e-02, 4.72531728e-01,\n",
       "        5.67341848e-01, 5.35983693e-01, 1.84262887e-01, 5.86783064e-01,\n",
       "        7.85911036e-01, 9.98068716e-01],\n",
       "       [5.27295984e-02, 4.26788541e-02, 5.28934496e-01, 6.03379462e-01,\n",
       "        8.22534171e-02, 7.09815672e-01, 1.16138393e-01, 1.97302480e-01,\n",
       "        7.79285457e-01, 4.55878914e-01, 3.08849643e-01, 3.67675779e-01,\n",
       "        7.63307671e-01, 1.80447485e-01, 1.37742857e-01, 5.00860876e-01,\n",
       "        1.49025348e-02, 3.47294292e-01, 3.37737230e-01, 5.04631281e-01,\n",
       "        4.92379125e-01, 3.50295618e-01, 2.02389998e-01, 1.59944112e-01,\n",
       "        5.61016521e-01, 4.46175615e-01, 8.55299026e-01, 9.11180623e-01,\n",
       "        8.76564793e-01, 9.65429226e-01],\n",
       "       [2.02311306e-01, 7.26375859e-01, 5.71318016e-01, 5.83927330e-01,\n",
       "        4.56721897e-01, 5.82110844e-01, 6.77482842e-02, 5.95052262e-03,\n",
       "        4.68011749e-01, 7.90227743e-01, 9.22948858e-01, 7.20241403e-01,\n",
       "        1.25931034e-01, 7.19092466e-01, 6.15494269e-01, 3.86718402e-01,\n",
       "        7.85214040e-01, 1.01344061e-01, 4.02937871e-01, 7.42396677e-01,\n",
       "        1.24338113e-02, 9.28182670e-01, 4.60223486e-01, 6.96250185e-02,\n",
       "        9.09930871e-01, 1.23304500e-01, 8.94781663e-01, 2.05060023e-01,\n",
       "        9.31988786e-01, 4.97929139e-01],\n",
       "       [3.60004057e-01, 1.60871193e-01, 7.26375971e-01, 8.35274853e-01,\n",
       "        3.18878896e-01, 9.78065365e-01, 4.72711186e-01, 5.66144396e-01,\n",
       "        1.46684409e-01, 9.97444182e-02, 8.65171264e-02, 7.53013827e-01,\n",
       "        7.42289300e-01, 3.15506359e-01, 8.45314427e-01, 5.34546658e-01,\n",
       "        8.32570354e-01, 1.86033985e-01, 2.75953026e-01, 5.83057595e-01,\n",
       "        9.29951462e-01, 5.72953975e-02, 8.18297348e-01, 1.64622974e-01,\n",
       "        4.39706106e-01, 3.66520761e-01, 6.57787877e-02, 7.87808879e-01,\n",
       "        5.12388060e-01, 1.76838504e-01],\n",
       "       [5.20831218e-01, 5.91009064e-01, 4.44538615e-01, 1.43008005e-01,\n",
       "        9.61264110e-01, 4.17769776e-01, 1.30025137e-01, 6.50993076e-01,\n",
       "        5.87905401e-01, 2.54737506e-01, 2.87432830e-01, 8.05278860e-01,\n",
       "        5.62076270e-02, 2.78191688e-01, 9.36711393e-01, 8.38406570e-01,\n",
       "        9.08173854e-01, 5.94617087e-01, 7.73501319e-01, 3.44099994e-01,\n",
       "        3.83867272e-01, 3.77941233e-01, 4.25964153e-01, 7.06897847e-01,\n",
       "        2.44170629e-01, 1.77781363e-01, 2.16465464e-01, 7.24390398e-01,\n",
       "        6.31487019e-01, 7.94534904e-01],\n",
       "       [7.85718514e-01, 1.44977324e-01, 8.74881543e-02, 2.56756924e-01,\n",
       "        6.40117412e-01, 5.69707890e-01, 8.89343195e-01, 9.18141866e-01,\n",
       "        1.52384939e-01, 1.18985005e-01, 1.00536447e-02, 2.79839488e-01,\n",
       "        1.22922111e-01, 4.57636075e-01, 1.88401485e-01, 7.61147448e-03,\n",
       "        8.96337977e-01, 9.97552949e-01, 8.06004054e-01, 3.01679333e-02,\n",
       "        5.35323484e-01, 6.10000501e-01, 8.51423640e-01, 4.09958004e-01,\n",
       "        2.61397025e-01, 7.54790982e-01, 7.91075983e-01, 7.87289703e-01,\n",
       "        9.47781869e-01, 4.00208236e-01],\n",
       "       [6.58216382e-01, 5.25636208e-01, 4.18142906e-01, 4.07535316e-01,\n",
       "        3.71268906e-01, 8.43894374e-01, 4.70826078e-01, 5.84899593e-01,\n",
       "        1.65718022e-01, 5.47158244e-01, 5.38818522e-01, 5.07629954e-01,\n",
       "        6.43080883e-01, 5.44683737e-01, 3.18254446e-01, 7.88191340e-01,\n",
       "        5.64425336e-01, 4.15578860e-01, 3.27930662e-01, 9.20648139e-01,\n",
       "        9.30469265e-01, 1.06917517e-02, 9.30822791e-02, 1.34089444e-01,\n",
       "        6.27337024e-01, 2.61691725e-01, 5.82542957e-01, 5.54901988e-01,\n",
       "        2.00340664e-01, 6.57080120e-01],\n",
       "       [9.43206887e-01, 3.56767684e-01, 3.18012661e-02, 4.73527039e-01,\n",
       "        6.74575923e-02, 4.99253862e-01, 6.92143731e-01, 7.61176161e-02,\n",
       "        2.29830030e-01, 4.97367867e-01, 5.42790727e-01, 4.94934895e-01,\n",
       "        8.01282967e-01, 3.07959263e-01, 1.14019779e-01, 5.60281039e-01,\n",
       "        7.69108850e-01, 4.35186926e-01, 8.35338860e-02, 5.98593869e-01,\n",
       "        8.46064137e-01, 1.83255671e-01, 9.12969191e-01, 1.03652264e-01,\n",
       "        1.26823812e-01, 4.07441686e-03, 7.84589029e-01, 5.60478449e-01,\n",
       "        6.60520137e-01, 5.21822260e-01],\n",
       "       [7.95746147e-01, 2.51644152e-01, 5.30481505e-01, 5.63042508e-02,\n",
       "        1.37332505e-01, 1.41988063e-01, 6.63767958e-01, 1.07839522e-01,\n",
       "        7.57034564e-01, 4.54254934e-01, 6.94127657e-01, 3.56727375e-01,\n",
       "        7.68017717e-01, 8.17327741e-01, 9.26743693e-01, 2.07037564e-01,\n",
       "        6.00956523e-01, 3.44778050e-02, 2.92989769e-01, 4.23009871e-02,\n",
       "        9.72677478e-02, 3.00916506e-01, 6.02666211e-02, 5.83177920e-01,\n",
       "        7.24416570e-01, 7.50768301e-01, 6.98099401e-01, 1.13358773e-01,\n",
       "        2.86959419e-01, 2.62144603e-01],\n",
       "       [6.62280644e-02, 2.17694993e-03, 2.69344400e-01, 3.38107938e-02,\n",
       "        4.67862475e-01, 5.40826554e-01, 2.04775477e-01, 2.28798399e-01,\n",
       "        6.53331087e-01, 1.96219100e-02, 2.99416099e-01, 4.80415578e-01,\n",
       "        5.21273713e-01, 9.58998051e-01, 7.60679715e-01, 8.03426408e-01,\n",
       "        3.29560625e-01, 3.76779107e-01, 6.87056604e-01, 7.07252868e-01,\n",
       "        1.10846491e-01, 2.67752746e-01, 3.05327736e-02, 4.00993969e-01,\n",
       "        6.12220767e-03, 6.68871709e-01, 8.68899271e-01, 3.75823074e-01,\n",
       "        2.81110432e-01, 1.01350637e-01]])"
      ]
     },
     "execution_count": 52,
     "metadata": {},
     "output_type": "execute_result"
    }
   ],
   "source": [
    "image"
   ]
  },
  {
   "cell_type": "code",
   "execution_count": 91,
   "metadata": {},
   "outputs": [
    {
     "data": {
      "text/plain": [
       "([<matplotlib.axis.YTick at 0x7f4640ea0160>,\n",
       "  <matplotlib.axis.YTick at 0x7f4640da1a58>,\n",
       "  <matplotlib.axis.YTick at 0x7f4640ea8550>],\n",
       " <a list of 3 Text yticklabel objects>)"
      ]
     },
     "execution_count": 91,
     "metadata": {},
     "output_type": "execute_result"
    },
    {
     "data": {
      "image/png": "[encoded data removed]",
      "text/plain": [
       "<Figure size 432x288 with 1 Axes>"
      ]
     },
     "metadata": {
      "needs_background": "light"
     },
     "output_type": "display_data"
    }
   ],
   "source": [
    "t = np.linspace(-np.pi,np.pi,50)\n",
    "y_cos = np.cos(t)\n",
    "y_sin = np.sin(t)\n",
    "plt.plot(t,y_cos)\n",
    "plt.plot(t,y_sin)\n",
    "plt.xticks([-np.pi, -np.pi/2, 0, np.pi/2, np.pi],\n",
    "          [r'$-\\pi$', r'$-\\pi/2$', r'$0$', r'$+\\pi/2$', r'$+\\pi$'])\n",
    "plt.yticks([-1, 0, +1],\n",
    "          [r'$-1$', r'$0$', r'$+1$'])"
   ]
  },
  {
   "cell_type": "code",
   "execution_count": 72,
   "metadata": {},
   "outputs": [
    {
     "data": {
      "text/plain": [
       "(0, 2, 9)"
      ]
     },
     "execution_count": 72,
     "metadata": {},
     "output_type": "execute_result"
    }
   ],
   "source": [
    "a = np.arange(10)\n",
    "a"
   ]
  },
  {
   "cell_type": "code",
   "execution_count": 73,
   "metadata": {},
   "outputs": [
    {
     "data": {
      "text/plain": [
       "(0, 2, 9)"
      ]
     },
     "execution_count": 73,
     "metadata": {},
     "output_type": "execute_result"
    }
   ],
   "source": [
    "a[0], a[2], a[-1]"
   ]
  },
  {
   "cell_type": "code",
   "execution_count": 74,
   "metadata": {},
   "outputs": [
    {
     "data": {
      "text/plain": [
       "array([9, 8, 7, 6, 5, 4, 3, 2, 1, 0])"
      ]
     },
     "execution_count": 74,
     "metadata": {},
     "output_type": "execute_result"
    }
   ],
   "source": [
    "a[::-1]"
   ]
  },
  {
   "cell_type": "code",
   "execution_count": 75,
   "metadata": {},
   "outputs": [
    {
     "data": {
      "text/plain": [
       "array([[0, 0, 0],\n",
       "       [0, 1, 0],\n",
       "       [0, 0, 2]])"
      ]
     },
     "execution_count": 75,
     "metadata": {},
     "output_type": "execute_result"
    }
   ],
   "source": [
    "a = np.diag(np.arange(3))\n",
    "a"
   ]
  },
  {
   "cell_type": "code",
   "execution_count": 76,
   "metadata": {},
   "outputs": [
    {
     "data": {
      "text/plain": [
       "1"
      ]
     },
     "execution_count": 76,
     "metadata": {},
     "output_type": "execute_result"
    }
   ],
   "source": [
    "a[1, 1]"
   ]
  },
  {
   "cell_type": "code",
   "execution_count": 77,
   "metadata": {},
   "outputs": [
    {
     "data": {
      "text/plain": [
       "array([[ 0,  0,  0],\n",
       "       [ 0,  1,  0],\n",
       "       [ 0, 10,  2]])"
      ]
     },
     "execution_count": 77,
     "metadata": {},
     "output_type": "execute_result"
    }
   ],
   "source": [
    "a[2, 1] = 10 # third line, second column\n",
    "a"
   ]
  },
  {
   "cell_type": "code",
   "execution_count": 78,
   "metadata": {},
   "outputs": [
    {
     "data": {
      "text/plain": [
       "array([0, 1, 0])"
      ]
     },
     "execution_count": 78,
     "metadata": {},
     "output_type": "execute_result"
    }
   ],
   "source": [
    "a[1]"
   ]
  },
  {
   "cell_type": "code",
   "execution_count": 79,
   "metadata": {},
   "outputs": [
    {
     "data": {
      "text/plain": [
       "array([0, 1, 2, 3, 4, 5, 6, 7, 8, 9])"
      ]
     },
     "execution_count": 79,
     "metadata": {},
     "output_type": "execute_result"
    }
   ],
   "source": [
    "a = np.arange(10)\n",
    "a"
   ]
  },
  {
   "cell_type": "code",
   "execution_count": 80,
   "metadata": {},
   "outputs": [
    {
     "data": {
      "text/plain": [
       "array([2, 5, 8])"
      ]
     },
     "execution_count": 80,
     "metadata": {},
     "output_type": "execute_result"
    }
   ],
   "source": [
    "a[2:9:3] # [start:end:step]"
   ]
  },
  {
   "cell_type": "code",
   "execution_count": 81,
   "metadata": {},
   "outputs": [
    {
     "data": {
      "text/plain": [
       "array([0, 1, 2, 3])"
      ]
     },
     "execution_count": 81,
     "metadata": {},
     "output_type": "execute_result"
    }
   ],
   "source": [
    "a[:4]"
   ]
  },
  {
   "cell_type": "code",
   "execution_count": 82,
   "metadata": {},
   "outputs": [
    {
     "data": {
      "text/plain": [
       "array([1, 2])"
      ]
     },
     "execution_count": 82,
     "metadata": {},
     "output_type": "execute_result"
    }
   ],
   "source": [
    "a[1:3]"
   ]
  },
  {
   "cell_type": "code",
   "execution_count": 83,
   "metadata": {},
   "outputs": [
    {
     "data": {
      "text/plain": [
       "array([0, 2, 4, 6, 8])"
      ]
     },
     "execution_count": 83,
     "metadata": {},
     "output_type": "execute_result"
    }
   ],
   "source": [
    "a[::2]"
   ]
  },
  {
   "cell_type": "code",
   "execution_count": 84,
   "metadata": {},
   "outputs": [
    {
     "data": {
      "text/plain": [
       "array([3, 4, 5, 6, 7, 8, 9])"
      ]
     },
     "execution_count": 84,
     "metadata": {},
     "output_type": "execute_result"
    }
   ],
   "source": [
    "a[3:]"
   ]
  },
  {
   "cell_type": "code",
   "execution_count": 86,
   "metadata": {},
   "outputs": [],
   "source": [
    "a = np.array([[5,6,11,8,2,3],\n",
    "          [3,2,10,5,1,10],\n",
    "          [20,4,7,30,3,5],\n",
    "          [100,50,30,8,8,9],\n",
    "          [3,4,7,10,5,3],\n",
    "          [8,9,23,21,45,7]])"
   ]
  },
  {
   "cell_type": "code",
   "execution_count": 87,
   "metadata": {},
   "outputs": [
    {
     "data": {
      "text/plain": [
       "array([ 7, 30,  3,  5])"
      ]
     },
     "execution_count": 87,
     "metadata": {},
     "output_type": "execute_result"
    }
   ],
   "source": [
    "a[2,2:]"
   ]
  },
  {
   "cell_type": "code",
   "execution_count": 90,
   "metadata": {},
   "outputs": [
    {
     "data": {
      "text/plain": [
       "array([[ 8,  8],\n",
       "       [10,  5]])"
      ]
     },
     "execution_count": 90,
     "metadata": {},
     "output_type": "execute_result"
    }
   ],
   "source": [
    "a[3:5,3:5]"
   ]
  },
  {
   "cell_type": "code",
   "execution_count": 93,
   "metadata": {},
   "outputs": [
    {
     "data": {
      "text/plain": [
       "array([[ 3,  2, 10,  5,  1, 10]])"
      ]
     },
     "execution_count": 93,
     "metadata": {},
     "output_type": "execute_result"
    }
   ],
   "source": [
    "a[1:3:2,:]"
   ]
  },
  {
   "cell_type": "code",
   "execution_count": null,
   "metadata": {},
   "outputs": [],
   "source": []
  }
 ],
 "metadata": {
  "kernelspec": {
   "display_name": "Python 3",
   "language": "python",
   "name": "python3"
  },
  "language_info": {
   "codemirror_mode": {
    "name": "ipython",
    "version": 3
   },
   "file_extension": ".py",
   "mimetype": "text/x-python",
   "name": "python",
   "nbconvert_exporter": "python",
   "pygments_lexer": "ipython3",
   "version": "3.7.3"
  }
 },
 "nbformat": 4,
 "nbformat_minor": 4
}
