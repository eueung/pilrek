{
 "cells": [
  {
   "cell_type": "markdown",
   "metadata": {},
   "source": [
    "Survei Pilrek ITB"
   ]
  },
  {
   "cell_type": "markdown",
   "metadata": {},
   "source": [
    "1. Menggabungkan dua data frame dari dua file CSV ke satu data frame"
   ]
  },
  {
   "cell_type": "code",
   "execution_count": null,
   "metadata": {},
   "outputs": [],
   "source": [
    "import pandas as pd\n",
    "import matplotlib.pyplot as plt"
   ]
  },
  {
   "cell_type": "code",
   "execution_count": null,
   "metadata": {},
   "outputs": [],
   "source": [
    "df1 = pd.read_csv('pilrek.csv')\n",
    "df2 = pd.read_csv('pilrek-anon.csv')\n",
    "df = pd.concat([df1, df2])"
   ]
  },
  {
   "cell_type": "markdown",
   "metadata": {},
   "source": [
    "2. Menampilkan rincian isi dataframe secara ringkas"
   ]
  },
  {
   "cell_type": "code",
   "execution_count": null,
   "metadata": {},
   "outputs": [],
   "source": [
    "df"
   ]
  },
  {
   "cell_type": "markdown",
   "metadata": {},
   "source": [
    "3. Menampilkan jumlah pilihan calon rektor"
   ]
  },
  {
   "cell_type": "code",
   "execution_count": null,
   "metadata": {},
   "outputs": [],
   "source": [
    "pie_total = df['CaRek Pilihan'].value_counts().plot(kind='bar')\n",
    "pie_total.set_title('Pilihan Calon Rektor ITB 2020-2025')"
   ]
  },
  {
   "cell_type": "markdown",
   "metadata": {},
   "source": [
    "4. Memilih dataframe dengan pilihan carek Jaka Sembiring"
   ]
  },
  {
   "cell_type": "code",
   "execution_count": null,
   "metadata": {},
   "outputs": [],
   "source": [
    "df_jakasembiring = df[df['CaRek Pilihan'] == 'Jaka Sembiring (STEI)']"
   ]
  },
  {
   "cell_type": "markdown",
   "metadata": {},
   "source": [
    "5. Menampilkan alasan responden untuk memilih carek Jaka Sembiring"
   ]
  },
  {
   "cell_type": "code",
   "execution_count": null,
   "metadata": {},
   "outputs": [],
   "source": [
    "pie_jakasembiring = df_jakasembiring['Alasan Memilih CaRek'].value_counts().plot(kind='pie',autopct='%1.1f%%')\n",
    "pie_jakasembiring.set_ylabel('')\n",
    "pie_jakasembiring.set_title('Alasan untuk memilih Jaka Sembiring sebagai Rektor ITB 2020-2025')"
   ]
  },
  {
   "cell_type": "markdown",
   "metadata": {},
   "source": [
    "6. Memilih dataframe dengan pilihan carek Acep Purqon"
   ]
  },
  {
   "cell_type": "code",
   "execution_count": null,
   "metadata": {},
   "outputs": [],
   "source": [
    "df_acep = df[df['CaRek Pilihan'] == 'Acep Purqon (FMIPA-FI)']"
   ]
  },
  {
   "cell_type": "code",
   "execution_count": null,
   "metadata": {},
   "outputs": [],
   "source": [
    "pie_acep = df_acep['Alasan Memilih CaRek'].value_counts().plot(kind='pie',autopct='%1.1f%%')\n",
    "pie_acep.set_ylabel('')\n",
    "pie_acep.set_title('Alasan untuk memilih Acep Purqon sebagai Rektor ITB 2020-2025')"
   ]
  },
  {
   "cell_type": "code",
   "execution_count": null,
   "metadata": {},
   "outputs": [],
   "source": []
  }
 ],
 "metadata": {
  "kernelspec": {
   "display_name": "Python 3",
   "language": "python",
   "name": "python3"
  },
  "language_info": {
   "codemirror_mode": {
    "name": "ipython",
    "version": 3
   },
   "file_extension": ".py",
   "mimetype": "text/x-python",
   "name": "python",
   "nbconvert_exporter": "python",
   "pygments_lexer": "ipython3",
   "version": "3.7.3"
  },
  "toc": {
   "base_numbering": 1,
   "nav_menu": {},
   "number_sections": true,
   "sideBar": true,
   "skip_h1_title": false,
   "title_cell": "Table of Contents",
   "title_sidebar": "Contents",
   "toc_cell": false,
   "toc_position": {},
   "toc_section_display": true,
   "toc_window_display": false
  }
 },
 "nbformat": 4,
 "nbformat_minor": 4
}
